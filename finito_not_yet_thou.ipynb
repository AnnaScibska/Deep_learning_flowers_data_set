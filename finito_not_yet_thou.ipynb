{
  "nbformat": 4,
  "nbformat_minor": 0,
  "metadata": {
    "colab": {
      "name": "Copy of first_working_version2.ipynb",
      "provenance": [],
      "collapsed_sections": [],
      "machine_shape": "hm",
      "include_colab_link": true
    },
    "kernelspec": {
      "name": "python3",
      "display_name": "Python 3"
    },
    "accelerator": "GPU"
  },
  "cells": [
    {
      "cell_type": "markdown",
      "metadata": {
        "id": "view-in-github",
        "colab_type": "text"
      },
      "source": [
        "<a href=\"https://colab.research.google.com/github/AnnaScibska/Deep_learning_flowers_data_set/blob/master/finito_not_yet_thou.ipynb\" target=\"_parent\"><img src=\"https://colab.research.google.com/assets/colab-badge.svg\" alt=\"Open In Colab\"/></a>"
      ]
    },
    {
      "cell_type": "markdown",
      "metadata": {
        "id": "kSJ1tQO1_rRV",
        "colab_type": "text"
      },
      "source": [
        "## Imports"
      ]
    },
    {
      "cell_type": "code",
      "metadata": {
        "id": "Pe20Ic02GM_p",
        "colab_type": "code",
        "colab": {
          "base_uri": "https://localhost:8080/",
          "height": 34
        },
        "outputId": "b09c5c47-95d8-4d11-e25f-42a581f35109"
      },
      "source": [
        "import tensorflow as tf\n",
        "import numpy as np\n",
        "import cv2\n",
        "import math\n",
        "import os\n",
        "import pathlib\n",
        "from keras.preprocessing.image import ImageDataGenerator\n",
        "from matplotlib import pyplot as plt"
      ],
      "execution_count": 2,
      "outputs": [
        {
          "output_type": "stream",
          "text": [
            "Using TensorFlow backend.\n"
          ],
          "name": "stderr"
        }
      ]
    },
    {
      "cell_type": "markdown",
      "metadata": {
        "id": "kA74xWl8f1Q4",
        "colab_type": "text"
      },
      "source": [
        "## Upload data from kaggle"
      ]
    },
    {
      "cell_type": "code",
      "metadata": {
        "id": "3QRKSR71fuDn",
        "colab_type": "code",
        "colab": {}
      },
      "source": [
        "from contextlib import contextmanager\n",
        "import sys, os\n",
        "\n",
        "@contextmanager\n",
        "def suppress_stdout():\n",
        "    with open(os.devnull, \"w\") as devnull:\n",
        "        old_stdout = sys.stdout\n",
        "        sys.stdout = devnull\n",
        "        try:  \n",
        "            yield\n",
        "        finally:\n",
        "            sys.stdout = old_stdout"
      ],
      "execution_count": 0,
      "outputs": []
    },
    {
      "cell_type": "code",
      "metadata": {
        "id": "tKxQtJ3RgatW",
        "colab_type": "code",
        "colab": {}
      },
      "source": [
        "file = open('/content/kaggle.json', 'w')\n",
        "file.write('{\\\"username\\\":\\\"freeanke\\\",\\\"key\\\":\\\"92b509cecb01045514b22adb0910675c\\\"}')\n",
        "file.close()\n",
        "\n",
        "!pip install -q kaggle\n",
        "!mkdir -p ~/.kaggle\n",
        "!cp kaggle.json ~/.kaggle/\n",
        "!ls ~/.kaggle\n",
        "!chmod 600 /root/.kaggle/kaggle.json\n",
        "\n",
        "!kaggle datasets download -d alxmamaev/flowers-recognition\n",
        "with suppress_stdout():\n",
        "    !unzip flowers-recognition"
      ],
      "execution_count": 0,
      "outputs": []
    },
    {
      "cell_type": "markdown",
      "metadata": {
        "id": "ypZVHKy6CXQE",
        "colab_type": "text"
      },
      "source": [
        "## Data pre-processing"
      ]
    },
    {
      "cell_type": "code",
      "metadata": {
        "id": "IUOjQh1HRBSC",
        "colab_type": "code",
        "colab": {}
      },
      "source": [
        "img_size = 150\n",
        "\n",
        "#===# creating dataset\n",
        "def load_imgs_and_labels(filepaths, flip=False):\n",
        "\n",
        "  dataset = []\n",
        "  labels = []\n",
        "\n",
        "  for path in filepaths:\n",
        "    dataset.append(process_image( './' + str(path), flip))\n",
        "    labels.append(translate_label_from_str_to_int(str(path).split('/')[-2]))\n",
        "\n",
        "    if len(labels)%500 == 0:\n",
        "      print(str(len(labels)) + '/' + str(len(filepaths)))\n",
        "\n",
        "  return [ dataset, labels ]\n",
        "\n",
        "#===# processing one image\n",
        "# loading the file\n",
        "# optionally: flipping horizontally\n",
        "# resizing\n",
        "# rescaling\n",
        "\n",
        "def process_image(filepath, flip):\n",
        "  img = 0\n",
        "  try:\n",
        "    img = cv2.imread( filepath, cv2.IMREAD_UNCHANGED)\n",
        "    if flip:\n",
        "      img = cv2.flip(img, 1)\n",
        "    img = cv2.resize(img, (img_size, img_size), interpolation = cv2.INTER_AREA)\n",
        "    img = img/255\n",
        "    \n",
        "  except Exception as e:\n",
        "    print(str(e))\n",
        "\n",
        "  return img\n",
        "\n",
        "#===# working around labels\n",
        "def translate_label_from_str_to_int(str_label):\n",
        "  labels = {\n",
        "      \"sunflower\": 0,\n",
        "      \"rose\": 1,\n",
        "      \"dandelion\": 2,\n",
        "      \"daisy\": 3,\n",
        "      \"tulip\": 4\n",
        "  }\n",
        "  return labels.get(str_label)\n",
        "\n",
        "def translate_label_from_int_to_str(int_label):\n",
        "  labels = {\n",
        "      0: \"sunflower\",\n",
        "      1: \"rose\",\n",
        "      2: \"dandelion\",\n",
        "      3: \"daisy\",\n",
        "      4: \"tulip\"\n",
        "  }\n",
        "  return labels.get(int_label)"
      ],
      "execution_count": 0,
      "outputs": []
    },
    {
      "cell_type": "markdown",
      "metadata": {
        "id": "E70UGwhSrBB_",
        "colab_type": "text"
      },
      "source": [
        "## Import the files"
      ]
    },
    {
      "cell_type": "code",
      "metadata": {
        "id": "ewKvI_jYHcdM",
        "colab_type": "code",
        "colab": {}
      },
      "source": [
        "data_dir = pathlib.Path('flowers/flowers')\n",
        "file_paths = np.array(list(data_dir.glob('*/*.jpg')))"
      ],
      "execution_count": 0,
      "outputs": []
    },
    {
      "cell_type": "code",
      "metadata": {
        "id": "e_l3paTMfE38",
        "colab_type": "code",
        "colab": {
          "base_uri": "https://localhost:8080/",
          "height": 163
        },
        "outputId": "15e8e46d-0eb7-46e2-9eb9-8f71bbab3c80"
      },
      "source": [
        "len(file_paths)"
      ],
      "execution_count": 1,
      "outputs": [
        {
          "output_type": "error",
          "ename": "NameError",
          "evalue": "ignored",
          "traceback": [
            "\u001b[0;31m---------------------------------------------------------------------------\u001b[0m",
            "\u001b[0;31mNameError\u001b[0m                                 Traceback (most recent call last)",
            "\u001b[0;32m<ipython-input-1-de5de53d1888>\u001b[0m in \u001b[0;36m<module>\u001b[0;34m()\u001b[0m\n\u001b[0;32m----> 1\u001b[0;31m \u001b[0mlen\u001b[0m\u001b[0;34m(\u001b[0m\u001b[0mfile_paths\u001b[0m\u001b[0;34m)\u001b[0m\u001b[0;34m\u001b[0m\u001b[0;34m\u001b[0m\u001b[0m\n\u001b[0m",
            "\u001b[0;31mNameError\u001b[0m: name 'file_paths' is not defined"
          ]
        }
      ]
    },
    {
      "cell_type": "markdown",
      "metadata": {
        "id": "w15z_AWlMivp",
        "colab_type": "text"
      },
      "source": [
        "Load data"
      ]
    },
    {
      "cell_type": "code",
      "metadata": {
        "id": "mYB2THaSJ1DY",
        "colab_type": "code",
        "outputId": "493e6d04-8a6d-4533-859f-5c81609b852f",
        "colab": {
          "base_uri": "https://localhost:8080/",
          "height": 151
        }
      },
      "source": [
        "np.random.shuffle(file_paths)\n",
        "datas = load_imgs_and_labels(file_paths)"
      ],
      "execution_count": 0,
      "outputs": [
        {
          "output_type": "stream",
          "text": [
            "500/4323\n",
            "1000/4323\n",
            "1500/4323\n",
            "2000/4323\n",
            "2500/4323\n",
            "3000/4323\n",
            "3500/4323\n",
            "4000/4323\n"
          ],
          "name": "stdout"
        }
      ]
    },
    {
      "cell_type": "markdown",
      "metadata": {
        "id": "-hxrrMsaEi24",
        "colab_type": "text"
      },
      "source": [
        "Add data - images flipped horizontally"
      ]
    },
    {
      "cell_type": "code",
      "metadata": {
        "id": "2adOCl8gjt9R",
        "colab_type": "code",
        "outputId": "74ba77fd-d5cf-45a4-a243-6a046e933a3c",
        "colab": {
          "base_uri": "https://localhost:8080/",
          "height": 151
        }
      },
      "source": [
        "np.random.shuffle(file_paths)\n",
        "flipped_datas = load_imgs_and_labels(file_paths, True)\n",
        "datas[0] = datas[0] + flipped_datas[0]\n",
        "datas[1] = datas[1] + flipped_datas[1]"
      ],
      "execution_count": 0,
      "outputs": [
        {
          "output_type": "stream",
          "text": [
            "500/4323\n",
            "1000/4323\n",
            "1500/4323\n",
            "2000/4323\n",
            "2500/4323\n",
            "3000/4323\n",
            "3500/4323\n",
            "4000/4323\n"
          ],
          "name": "stdout"
        }
      ]
    },
    {
      "cell_type": "markdown",
      "metadata": {
        "id": "5RxdtLqnE7K_",
        "colab_type": "text"
      },
      "source": [
        "Divide dataset into training and testing part"
      ]
    },
    {
      "cell_type": "code",
      "metadata": {
        "id": "mB1RbqmgJ5wm",
        "colab_type": "code",
        "colab": {}
      },
      "source": [
        "dataset = datas[0]\n",
        "labels = datas[1]\n",
        "\n",
        "ds_size = len(datas[0])\n",
        "\n",
        "test_data = dataset[:ds_size:5]\n",
        "test_labels = labels[:ds_size:5]\n",
        "\n",
        "train_data = np.delete(dataset, slice(0, ds_size, 5), 0)\n",
        "train_labels = np.delete(labels, slice(0, ds_size, 5))"
      ],
      "execution_count": 0,
      "outputs": []
    },
    {
      "cell_type": "markdown",
      "metadata": {
        "id": "U1Zs6kEGFX-5",
        "colab_type": "text"
      },
      "source": [
        "Display test picture with label"
      ]
    },
    {
      "cell_type": "code",
      "metadata": {
        "id": "_dvtt5zmRee6",
        "colab_type": "code",
        "outputId": "83c9fc2a-3326-4b40-c3ff-e4858a16761e",
        "colab": {
          "base_uri": "https://localhost:8080/",
          "height": 286
        }
      },
      "source": [
        "print(translate_label_from_int_to_str(train_labels[500]))\n",
        "plt.imshow(train_data[500])\n",
        "plt.show()"
      ],
      "execution_count": 0,
      "outputs": [
        {
          "output_type": "stream",
          "text": [
            "rose\n"
          ],
          "name": "stdout"
        },
        {
          "output_type": "display_data",
          "data": {
            "image/png": "[encoded data removed]",
            "text/plain": [
              "<Figure size 432x288 with 1 Axes>"
            ]
          },
          "metadata": {
            "tags": []
          }
        }
      ]
    },
    {
      "cell_type": "markdown",
      "metadata": {
        "id": "w7Ezuth-RSFT",
        "colab_type": "text"
      },
      "source": [
        "## Creating, training and testing a model"
      ]
    },
    {
      "cell_type": "markdown",
      "metadata": {
        "id": "mj-rVBqt32Qg",
        "colab_type": "text"
      },
      "source": [
        "## **Model 1**. No data generator. Accuracy: **80%**"
      ]
    },
    {
      "cell_type": "code",
      "metadata": {
        "id": "bKaw5KBxDU6L",
        "colab_type": "code",
        "colab": {}
      },
      "source": [
        "#==# stopping the model from overfitting\n",
        "class training_ceiling(tf.keras.callbacks.Callback):\n",
        "  def on_epoch_end(self, epoch, logs={}):\n",
        "    if(logs.get('accuracy')>0.99):\n",
        "      print(\"\\nReached 99% accuracy so cancelling training!\")\n",
        "      self.model.stop_training = True"
      ],
      "execution_count": 0,
      "outputs": []
    },
    {
      "cell_type": "code",
      "metadata": {
        "id": "SsZh0OGzfYh-",
        "colab_type": "code",
        "colab": {}
      },
      "source": [
        "epochs=100\n",
        "batch_size=100"
      ],
      "execution_count": 0,
      "outputs": []
    },
    {
      "cell_type": "code",
      "metadata": {
        "id": "6E6ut-t-dUt4",
        "colab_type": "code",
        "colab": {}
      },
      "source": [
        "callbacks = training_ceiling()"
      ],
      "execution_count": 0,
      "outputs": []
    },
    {
      "cell_type": "code",
      "metadata": {
        "id": "Xo8oXmAdespx",
        "colab_type": "code",
        "colab": {}
      },
      "source": [
        "model = tf.keras.models.Sequential([\n",
        "                                    \n",
        "    #===# image processing\n",
        "    tf.keras.layers.Convolution2D(32, (3,3), activation=\"relu\", input_shape=(img_size,img_size,3)),                       \n",
        "    tf.keras.layers.MaxPooling2D(2,2),\n",
        "    tf.keras.layers.Conv2D(64, (3, 3), activation='relu'),\n",
        "    tf.keras.layers.MaxPooling2D(2,2),\n",
        "    tf.keras.layers.Conv2D(128, (3, 3), activation='relu'),\n",
        "    tf.keras.layers.MaxPooling2D(2,2),\n",
        "    tf.keras.layers.Conv2D(64, (3, 3), activation='relu'),\n",
        "    tf.keras.layers.MaxPooling2D(2,2),\n",
        "    tf.keras.layers.Conv2D(64, (3, 3), activation='relu'),\n",
        "    tf.keras.layers.MaxPooling2D(2,2),\n",
        "    \n",
        "    tf.keras.layers.Flatten(),\n",
        "    tf.keras.layers.Dense(64, activation= tf.nn.relu),\n",
        "    tf.keras.layers.Dense(128, activation= tf.nn.relu),\n",
        "    tf.keras.layers.Dense(64, activation= tf.nn.relu),\n",
        "\n",
        "    #===# output\n",
        "    tf.keras.layers.Dense(5, activation=tf.nn.softmax)\n",
        "])"
      ],
      "execution_count": 0,
      "outputs": []
    },
    {
      "cell_type": "code",
      "metadata": {
        "id": "09AcHdRCWMVZ",
        "colab_type": "code",
        "outputId": "e7df65c2-4ad5-4b0b-f432-e94d089f9431",
        "colab": {
          "base_uri": "https://localhost:8080/",
          "height": 655
        }
      },
      "source": [
        "model.summary()"
      ],
      "execution_count": 0,
      "outputs": [
        {
          "output_type": "stream",
          "text": [
            "Model: \"sequential_1\"\n",
            "_________________________________________________________________\n",
            "Layer (type)                 Output Shape              Param #   \n",
            "=================================================================\n",
            "conv2d_5 (Conv2D)            (None, 148, 148, 32)      896       \n",
            "_________________________________________________________________\n",
            "max_pooling2d_5 (MaxPooling2 (None, 74, 74, 32)        0         \n",
            "_________________________________________________________________\n",
            "conv2d_6 (Conv2D)            (None, 72, 72, 64)        18496     \n",
            "_________________________________________________________________\n",
            "max_pooling2d_6 (MaxPooling2 (None, 36, 36, 64)        0         \n",
            "_________________________________________________________________\n",
            "conv2d_7 (Conv2D)            (None, 34, 34, 128)       73856     \n",
            "_________________________________________________________________\n",
            "max_pooling2d_7 (MaxPooling2 (None, 17, 17, 128)       0         \n",
            "_________________________________________________________________\n",
            "conv2d_8 (Conv2D)            (None, 15, 15, 64)        73792     \n",
            "_________________________________________________________________\n",
            "max_pooling2d_8 (MaxPooling2 (None, 7, 7, 64)          0         \n",
            "_________________________________________________________________\n",
            "conv2d_9 (Conv2D)            (None, 5, 5, 64)          36928     \n",
            "_________________________________________________________________\n",
            "max_pooling2d_9 (MaxPooling2 (None, 2, 2, 64)          0         \n",
            "_________________________________________________________________\n",
            "flatten_1 (Flatten)          (None, 256)               0         \n",
            "_________________________________________________________________\n",
            "dense_4 (Dense)              (None, 64)                16448     \n",
            "_________________________________________________________________\n",
            "dense_5 (Dense)              (None, 128)               8320      \n",
            "_________________________________________________________________\n",
            "dense_6 (Dense)              (None, 64)                8256      \n",
            "_________________________________________________________________\n",
            "dense_7 (Dense)              (None, 5)                 325       \n",
            "=================================================================\n",
            "Total params: 237,317\n",
            "Trainable params: 237,317\n",
            "Non-trainable params: 0\n",
            "_________________________________________________________________\n"
          ],
          "name": "stdout"
        }
      ]
    },
    {
      "cell_type": "code",
      "metadata": {
        "id": "Io2C_U7Gekoc",
        "colab_type": "code",
        "colab": {}
      },
      "source": [
        "model.compile(optimizer = tf.optimizers.Adam(learning_rate=0.001),\n",
        "              loss = 'sparse_categorical_crossentropy',\n",
        "              metrics=['accuracy'])"
      ],
      "execution_count": 0,
      "outputs": []
    },
    {
      "cell_type": "code",
      "metadata": {
        "id": "kSnUSZ3-eoMu",
        "colab_type": "code",
        "outputId": "5a600903-4eb9-4193-e4bc-af6e32076e7b",
        "colab": {
          "base_uri": "https://localhost:8080/",
          "height": 1000
        }
      },
      "source": [
        "model.fit(\n",
        "    np.asarray(train_data), \n",
        "    np.asarray(train_labels), \n",
        "    validation_data=(np.asarray(test_data),np.asarray(test_labels)), \n",
        "    epochs=epochs, \n",
        "    batch_size=batch_size, \n",
        "    callbacks=[callbacks])"
      ],
      "execution_count": 0,
      "outputs": [
        {
          "output_type": "stream",
          "text": [
            "Epoch 1/100\n",
            "70/70 [==============================] - 4s 53ms/step - loss: 1.4068 - accuracy: 0.3700 - val_loss: 1.2400 - val_accuracy: 0.4410\n",
            "Epoch 2/100\n",
            "70/70 [==============================] - 4s 52ms/step - loss: 1.1322 - accuracy: 0.5263 - val_loss: 1.0756 - val_accuracy: 0.5740\n",
            "Epoch 3/100\n",
            "70/70 [==============================] - 4s 51ms/step - loss: 1.0187 - accuracy: 0.5849 - val_loss: 1.0054 - val_accuracy: 0.6040\n",
            "Epoch 4/100\n",
            "70/70 [==============================] - 4s 52ms/step - loss: 0.9313 - accuracy: 0.6213 - val_loss: 0.9450 - val_accuracy: 0.6139\n",
            "Epoch 5/100\n",
            "70/70 [==============================] - 4s 51ms/step - loss: 0.8400 - accuracy: 0.6663 - val_loss: 0.8471 - val_accuracy: 0.6642\n",
            "Epoch 6/100\n",
            "70/70 [==============================] - 4s 51ms/step - loss: 0.7925 - accuracy: 0.6955 - val_loss: 0.8140 - val_accuracy: 0.6902\n",
            "Epoch 7/100\n",
            "70/70 [==============================] - 4s 52ms/step - loss: 0.7541 - accuracy: 0.7099 - val_loss: 0.7923 - val_accuracy: 0.6971\n",
            "Epoch 8/100\n",
            "70/70 [==============================] - 4s 50ms/step - loss: 0.6931 - accuracy: 0.7341 - val_loss: 0.7494 - val_accuracy: 0.7179\n",
            "Epoch 9/100\n",
            "70/70 [==============================] - 4s 50ms/step - loss: 0.6564 - accuracy: 0.7504 - val_loss: 0.7870 - val_accuracy: 0.7139\n",
            "Epoch 10/100\n",
            "70/70 [==============================] - 4s 50ms/step - loss: 0.6080 - accuracy: 0.7710 - val_loss: 0.7075 - val_accuracy: 0.7335\n",
            "Epoch 11/100\n",
            "70/70 [==============================] - 4s 50ms/step - loss: 0.5383 - accuracy: 0.7941 - val_loss: 0.6659 - val_accuracy: 0.7578\n",
            "Epoch 12/100\n",
            "70/70 [==============================] - 4s 51ms/step - loss: 0.5017 - accuracy: 0.8107 - val_loss: 0.8123 - val_accuracy: 0.7116\n",
            "Epoch 13/100\n",
            "70/70 [==============================] - 4s 50ms/step - loss: 0.4874 - accuracy: 0.8182 - val_loss: 0.8466 - val_accuracy: 0.7069\n",
            "Epoch 14/100\n",
            "70/70 [==============================] - 4s 51ms/step - loss: 0.4556 - accuracy: 0.8317 - val_loss: 0.6873 - val_accuracy: 0.7509\n",
            "Epoch 15/100\n",
            "70/70 [==============================] - 4s 50ms/step - loss: 0.3800 - accuracy: 0.8589 - val_loss: 0.7286 - val_accuracy: 0.7543\n",
            "Epoch 16/100\n",
            "70/70 [==============================] - 4s 50ms/step - loss: 0.3710 - accuracy: 0.8609 - val_loss: 0.6988 - val_accuracy: 0.7595\n",
            "Epoch 17/100\n",
            "70/70 [==============================] - 4s 51ms/step - loss: 0.2957 - accuracy: 0.8901 - val_loss: 0.7783 - val_accuracy: 0.7566\n",
            "Epoch 18/100\n",
            "70/70 [==============================] - 4s 51ms/step - loss: 0.2871 - accuracy: 0.8944 - val_loss: 0.7277 - val_accuracy: 0.7618\n",
            "Epoch 19/100\n",
            "70/70 [==============================] - 4s 51ms/step - loss: 0.2529 - accuracy: 0.9078 - val_loss: 0.7996 - val_accuracy: 0.7671\n",
            "Epoch 20/100\n",
            "70/70 [==============================] - 4s 50ms/step - loss: 0.2169 - accuracy: 0.9199 - val_loss: 0.8392 - val_accuracy: 0.7809\n",
            "Epoch 21/100\n",
            "70/70 [==============================] - 4s 52ms/step - loss: 0.1769 - accuracy: 0.9352 - val_loss: 0.8822 - val_accuracy: 0.7728\n",
            "Epoch 22/100\n",
            "70/70 [==============================] - 4s 52ms/step - loss: 0.1700 - accuracy: 0.9394 - val_loss: 1.0422 - val_accuracy: 0.7578\n",
            "Epoch 23/100\n",
            "70/70 [==============================] - 4s 50ms/step - loss: 0.1677 - accuracy: 0.9396 - val_loss: 0.9202 - val_accuracy: 0.7688\n",
            "Epoch 24/100\n",
            "70/70 [==============================] - 4s 50ms/step - loss: 0.1687 - accuracy: 0.9400 - val_loss: 1.0698 - val_accuracy: 0.7572\n",
            "Epoch 25/100\n",
            "70/70 [==============================] - 4s 50ms/step - loss: 0.1178 - accuracy: 0.9584 - val_loss: 1.1701 - val_accuracy: 0.7688\n",
            "Epoch 26/100\n",
            "70/70 [==============================] - 4s 51ms/step - loss: 0.1102 - accuracy: 0.9572 - val_loss: 1.1365 - val_accuracy: 0.7503\n",
            "Epoch 27/100\n",
            "70/70 [==============================] - 4s 50ms/step - loss: 0.1309 - accuracy: 0.9547 - val_loss: 1.0804 - val_accuracy: 0.7757\n",
            "Epoch 28/100\n",
            "70/70 [==============================] - 4s 50ms/step - loss: 0.0801 - accuracy: 0.9715 - val_loss: 1.2623 - val_accuracy: 0.7624\n",
            "Epoch 29/100\n",
            "70/70 [==============================] - 4s 50ms/step - loss: 0.0661 - accuracy: 0.9776 - val_loss: 1.1136 - val_accuracy: 0.7769\n",
            "Epoch 30/100\n",
            "70/70 [==============================] - 4s 52ms/step - loss: 0.0636 - accuracy: 0.9782 - val_loss: 1.1681 - val_accuracy: 0.7607\n",
            "Epoch 31/100\n",
            "70/70 [==============================] - 4s 50ms/step - loss: 0.0662 - accuracy: 0.9760 - val_loss: 1.1838 - val_accuracy: 0.7699\n",
            "Epoch 32/100\n",
            "70/70 [==============================] - 4s 50ms/step - loss: 0.0557 - accuracy: 0.9809 - val_loss: 1.2499 - val_accuracy: 0.7873\n",
            "Epoch 33/100\n",
            "69/70 [============================>.] - ETA: 0s - loss: 0.0339 - accuracy: 0.9901\n",
            "Reached 99% accuracy so cancelling training!\n",
            "70/70 [==============================] - 4s 50ms/step - loss: 0.0335 - accuracy: 0.9902 - val_loss: 1.1988 - val_accuracy: 0.8012\n"
          ],
          "name": "stdout"
        },
        {
          "output_type": "execute_result",
          "data": {
            "text/plain": [
              "<tensorflow.python.keras.callbacks.History at 0x7f6c981b66d8>"
            ]
          },
          "metadata": {
            "tags": []
          },
          "execution_count": 24
        }
      ]
    },
    {
      "cell_type": "markdown",
      "metadata": {
        "id": "O3R_C_LoF0_X",
        "colab_type": "text"
      },
      "source": [
        "## Evaluating the model 1"
      ]
    },
    {
      "cell_type": "code",
      "metadata": {
        "id": "yX_Rp_SklDr2",
        "colab_type": "code",
        "outputId": "09f9a70c-44cb-40e2-8b75-5a0f8b13b662",
        "colab": {
          "base_uri": "https://localhost:8080/",
          "height": 50
        }
      },
      "source": [
        "model.evaluate(np.asarray(test_data), np.asarray(test_labels))"
      ],
      "execution_count": 0,
      "outputs": [
        {
          "output_type": "stream",
          "text": [
            "55/55 [==============================] - 0s 9ms/step - loss: 1.1800 - accuracy: 0.8012\n"
          ],
          "name": "stdout"
        },
        {
          "output_type": "execute_result",
          "data": {
            "text/plain": [
              "[1.1799767017364502, 0.8011560440063477]"
            ]
          },
          "metadata": {
            "tags": []
          },
          "execution_count": 25
        }
      ]
    },
    {
      "cell_type": "markdown",
      "metadata": {
        "id": "CkvSylZA4Gin",
        "colab_type": "text"
      },
      "source": [
        "## **Model 2**. With data generator. Accuracy: **88%**"
      ]
    },
    {
      "cell_type": "code",
      "metadata": {
        "id": "3Riga7bN3LRi",
        "colab_type": "code",
        "outputId": "4768f97f-b7c7-43cd-a53c-08544c55b038",
        "colab": {
          "base_uri": "https://localhost:8080/",
          "height": 1000
        }
      },
      "source": [
        "class training_ceiling(tf.keras.callbacks.Callback):\n",
        "  def on_epoch_end(self, epoch, logs={}):\n",
        "    if(logs.get('accuracy')>0.99):\n",
        "      print(\"\\nReached 99% accuracy so cancelling training!\")\n",
        "      self.model.stop_training = True\n",
        "\n",
        "callbacks = training_ceiling()\n",
        "\n",
        "epochs=100\n",
        "batch_size=128\n",
        "\n",
        "model = tf.keras.models.Sequential([\n",
        "                                    \n",
        "    tf.keras.layers.Convolution2D(32, (3,3), activation=\"relu\", input_shape=(img_size,img_size,3)),                       \n",
        "    tf.keras.layers.MaxPooling2D(2,2),\n",
        "    tf.keras.layers.Conv2D(64, (3, 3), activation='relu'),\n",
        "    tf.keras.layers.MaxPooling2D(2,2),\n",
        "    tf.keras.layers.Conv2D(128, (3, 3), activation='relu'),\n",
        "    tf.keras.layers.MaxPooling2D(2,2),\n",
        "    tf.keras.layers.Conv2D(64, (3, 3), activation='relu'),\n",
        "    tf.keras.layers.MaxPooling2D(2,2),\n",
        "    tf.keras.layers.Conv2D(64, (3, 3), activation='relu'),\n",
        "    tf.keras.layers.MaxPooling2D(2,2),\n",
        "\n",
        "    tf.keras.layers.Flatten(),\n",
        "    \n",
        "    tf.keras.layers.Dense(64, activation= tf.nn.relu),\n",
        "    tf.keras.layers.Dense(128, activation= tf.nn.relu),\n",
        "    tf.keras.layers.Dense(64, activation= tf.nn.relu),\n",
        "\n",
        "    tf.keras.layers.Dense(5, activation=tf.nn.softmax)\n",
        "])\n",
        "\n",
        "from keras.preprocessing.image import ImageDataGenerator\n",
        "data_generator = ImageDataGenerator(\n",
        "        rotation_range=10,\n",
        "        zoom_range = 0.1, \n",
        "        width_shift_range=0.2,\n",
        "        height_shift_range=0.2,\n",
        "        )\n",
        "data_generator.fit(np.asarray(train_data))\n",
        "\n",
        "model.compile(optimizer = tf.optimizers.Adam(learning_rate=0.001),\n",
        "              loss = 'sparse_categorical_crossentropy',\n",
        "              metrics=['accuracy'])\n",
        "\n",
        "model.fit(\n",
        "    data_generator.flow(\n",
        "        np.asarray(train_data),\n",
        "        np.asarray(train_labels), \n",
        "        batch_size=batch_size),\n",
        "    epochs = epochs, \n",
        "    validation_data=(np.asarray(test_data),\n",
        "                     np.asarray(test_labels)),\n",
        "    verbose = 1, \n",
        "    steps_per_epoch=np.asarray(train_data).shape[0] // batch_size,\n",
        "    callbacks=[callbacks])"
      ],
      "execution_count": 0,
      "outputs": [
        {
          "output_type": "stream",
          "text": [
            "Epoch 1/100\n",
            "54/54 [==============================] - 31s 567ms/step - loss: 1.3954 - accuracy: 0.3618 - val_loss: 1.2211 - val_accuracy: 0.4335\n",
            "Epoch 2/100\n",
            "54/54 [==============================] - 31s 571ms/step - loss: 1.1875 - accuracy: 0.4828 - val_loss: 1.1098 - val_accuracy: 0.5220\n",
            "Epoch 3/100\n",
            "54/54 [==============================] - 30s 560ms/step - loss: 1.1396 - accuracy: 0.5264 - val_loss: 1.0039 - val_accuracy: 0.5896\n",
            "Epoch 4/100\n",
            "54/54 [==============================] - 31s 568ms/step - loss: 1.0369 - accuracy: 0.5738 - val_loss: 0.9683 - val_accuracy: 0.6168\n",
            "Epoch 5/100\n",
            "54/54 [==============================] - 31s 566ms/step - loss: 0.9613 - accuracy: 0.6087 - val_loss: 0.9179 - val_accuracy: 0.6428\n",
            "Epoch 6/100\n",
            "54/54 [==============================] - 30s 564ms/step - loss: 0.9217 - accuracy: 0.6301 - val_loss: 0.8745 - val_accuracy: 0.6601\n",
            "Epoch 7/100\n",
            "54/54 [==============================] - 31s 566ms/step - loss: 0.8594 - accuracy: 0.6622 - val_loss: 0.8317 - val_accuracy: 0.6786\n",
            "Epoch 8/100\n",
            "54/54 [==============================] - 31s 567ms/step - loss: 0.8422 - accuracy: 0.6681 - val_loss: 0.8162 - val_accuracy: 0.6757\n",
            "Epoch 9/100\n",
            "54/54 [==============================] - 31s 565ms/step - loss: 0.8484 - accuracy: 0.6671 - val_loss: 0.7903 - val_accuracy: 0.6942\n",
            "Epoch 10/100\n",
            "54/54 [==============================] - 30s 564ms/step - loss: 0.8161 - accuracy: 0.6750 - val_loss: 0.7859 - val_accuracy: 0.6954\n",
            "Epoch 11/100\n",
            "54/54 [==============================] - 30s 561ms/step - loss: 0.7792 - accuracy: 0.6936 - val_loss: 0.7717 - val_accuracy: 0.6971\n",
            "Epoch 12/100\n",
            "54/54 [==============================] - 30s 565ms/step - loss: 0.8013 - accuracy: 0.6906 - val_loss: 0.8326 - val_accuracy: 0.6832\n",
            "Epoch 13/100\n",
            "54/54 [==============================] - 30s 563ms/step - loss: 0.7374 - accuracy: 0.7115 - val_loss: 0.7785 - val_accuracy: 0.6913\n",
            "Epoch 14/100\n",
            "54/54 [==============================] - 30s 564ms/step - loss: 0.7923 - accuracy: 0.6844 - val_loss: 0.7232 - val_accuracy: 0.7197\n",
            "Epoch 15/100\n",
            "54/54 [==============================] - 30s 561ms/step - loss: 0.7430 - accuracy: 0.7205 - val_loss: 0.7040 - val_accuracy: 0.7347\n",
            "Epoch 16/100\n",
            "54/54 [==============================] - 30s 560ms/step - loss: 0.6941 - accuracy: 0.7313 - val_loss: 0.8101 - val_accuracy: 0.7012\n",
            "Epoch 17/100\n",
            "54/54 [==============================] - 30s 564ms/step - loss: 0.6992 - accuracy: 0.7334 - val_loss: 0.7126 - val_accuracy: 0.7283\n",
            "Epoch 18/100\n",
            "54/54 [==============================] - 30s 563ms/step - loss: 0.6207 - accuracy: 0.7668 - val_loss: 0.6894 - val_accuracy: 0.7434\n",
            "Epoch 19/100\n",
            "54/54 [==============================] - 30s 562ms/step - loss: 0.6982 - accuracy: 0.7443 - val_loss: 0.6646 - val_accuracy: 0.7497\n",
            "Epoch 20/100\n",
            "54/54 [==============================] - 30s 561ms/step - loss: 0.6620 - accuracy: 0.7482 - val_loss: 0.7001 - val_accuracy: 0.7416\n",
            "Epoch 21/100\n",
            "54/54 [==============================] - 30s 562ms/step - loss: 0.6454 - accuracy: 0.7577 - val_loss: 0.6127 - val_accuracy: 0.7659\n",
            "Epoch 22/100\n",
            "54/54 [==============================] - 30s 560ms/step - loss: 0.6207 - accuracy: 0.7659 - val_loss: 0.6266 - val_accuracy: 0.7561\n",
            "Epoch 23/100\n",
            "54/54 [==============================] - 30s 558ms/step - loss: 0.6280 - accuracy: 0.7634 - val_loss: 0.6790 - val_accuracy: 0.7480\n",
            "Epoch 24/100\n",
            "54/54 [==============================] - 30s 553ms/step - loss: 0.5820 - accuracy: 0.7771 - val_loss: 0.5834 - val_accuracy: 0.7803\n",
            "Epoch 25/100\n",
            "54/54 [==============================] - 30s 556ms/step - loss: 0.6470 - accuracy: 0.7596 - val_loss: 0.6247 - val_accuracy: 0.7636\n",
            "Epoch 26/100\n",
            "54/54 [==============================] - 30s 549ms/step - loss: 0.5430 - accuracy: 0.7915 - val_loss: 0.5875 - val_accuracy: 0.7855\n",
            "Epoch 27/100\n",
            "54/54 [==============================] - 30s 546ms/step - loss: 0.6545 - accuracy: 0.7677 - val_loss: 0.6368 - val_accuracy: 0.7665\n",
            "Epoch 28/100\n",
            "54/54 [==============================] - 29s 544ms/step - loss: 0.6156 - accuracy: 0.7789 - val_loss: 0.6274 - val_accuracy: 0.7699\n",
            "Epoch 29/100\n",
            "54/54 [==============================] - 29s 544ms/step - loss: 0.6212 - accuracy: 0.7728 - val_loss: 0.6223 - val_accuracy: 0.7578\n",
            "Epoch 30/100\n",
            "54/54 [==============================] - 29s 543ms/step - loss: 0.6647 - accuracy: 0.7585 - val_loss: 0.6088 - val_accuracy: 0.7734\n",
            "Epoch 31/100\n",
            "54/54 [==============================] - 29s 542ms/step - loss: 0.5557 - accuracy: 0.7921 - val_loss: 0.5685 - val_accuracy: 0.7861\n",
            "Epoch 32/100\n",
            "54/54 [==============================] - 29s 542ms/step - loss: 0.5904 - accuracy: 0.7867 - val_loss: 0.5958 - val_accuracy: 0.7740\n",
            "Epoch 33/100\n",
            "54/54 [==============================] - 29s 540ms/step - loss: 0.5263 - accuracy: 0.8086 - val_loss: 0.5505 - val_accuracy: 0.7994\n",
            "Epoch 34/100\n",
            "54/54 [==============================] - 29s 544ms/step - loss: 0.5260 - accuracy: 0.8104 - val_loss: 0.5834 - val_accuracy: 0.7803\n",
            "Epoch 35/100\n",
            "54/54 [==============================] - 29s 542ms/step - loss: 0.4849 - accuracy: 0.8234 - val_loss: 0.5443 - val_accuracy: 0.7994\n",
            "Epoch 36/100\n",
            "54/54 [==============================] - 29s 544ms/step - loss: 0.4521 - accuracy: 0.8284 - val_loss: 0.5394 - val_accuracy: 0.7994\n",
            "Epoch 37/100\n",
            "54/54 [==============================] - 30s 554ms/step - loss: 0.5090 - accuracy: 0.8172 - val_loss: 0.5851 - val_accuracy: 0.7832\n",
            "Epoch 38/100\n",
            "54/54 [==============================] - 29s 543ms/step - loss: 0.4875 - accuracy: 0.8223 - val_loss: 0.5443 - val_accuracy: 0.8029\n",
            "Epoch 39/100\n",
            "54/54 [==============================] - 29s 540ms/step - loss: 0.4491 - accuracy: 0.8354 - val_loss: 0.4955 - val_accuracy: 0.8202\n",
            "Epoch 40/100\n",
            "54/54 [==============================] - 29s 542ms/step - loss: 0.4528 - accuracy: 0.8356 - val_loss: 0.5615 - val_accuracy: 0.7879\n",
            "Epoch 41/100\n",
            "54/54 [==============================] - 29s 537ms/step - loss: 0.4554 - accuracy: 0.8300 - val_loss: 0.5333 - val_accuracy: 0.8104\n",
            "Epoch 42/100\n",
            "54/54 [==============================] - 29s 539ms/step - loss: 0.4466 - accuracy: 0.8396 - val_loss: 0.4689 - val_accuracy: 0.8376\n",
            "Epoch 43/100\n",
            "54/54 [==============================] - 29s 535ms/step - loss: 0.3887 - accuracy: 0.8555 - val_loss: 0.5052 - val_accuracy: 0.8231\n",
            "Epoch 44/100\n",
            "54/54 [==============================] - 29s 538ms/step - loss: 0.3925 - accuracy: 0.8630 - val_loss: 0.5516 - val_accuracy: 0.8017\n",
            "Epoch 45/100\n",
            "54/54 [==============================] - 29s 537ms/step - loss: 0.3995 - accuracy: 0.8539 - val_loss: 0.4909 - val_accuracy: 0.8318\n",
            "Epoch 46/100\n",
            "54/54 [==============================] - 29s 537ms/step - loss: 0.3916 - accuracy: 0.8550 - val_loss: 0.5361 - val_accuracy: 0.8046\n",
            "Epoch 47/100\n",
            "54/54 [==============================] - 29s 534ms/step - loss: 0.3718 - accuracy: 0.8637 - val_loss: 0.4255 - val_accuracy: 0.8428\n",
            "Epoch 48/100\n",
            "54/54 [==============================] - 29s 538ms/step - loss: 0.3277 - accuracy: 0.8814 - val_loss: 0.4478 - val_accuracy: 0.8318\n",
            "Epoch 49/100\n",
            "54/54 [==============================] - 29s 529ms/step - loss: 0.3224 - accuracy: 0.8861 - val_loss: 0.5230 - val_accuracy: 0.8162\n",
            "Epoch 50/100\n",
            "54/54 [==============================] - 29s 530ms/step - loss: 0.3683 - accuracy: 0.8652 - val_loss: 0.4697 - val_accuracy: 0.8266\n",
            "Epoch 51/100\n",
            "54/54 [==============================] - 29s 532ms/step - loss: 0.3247 - accuracy: 0.8823 - val_loss: 0.4408 - val_accuracy: 0.8364\n",
            "Epoch 52/100\n",
            "54/54 [==============================] - 29s 530ms/step - loss: 0.3265 - accuracy: 0.8861 - val_loss: 0.4830 - val_accuracy: 0.8329\n",
            "Epoch 53/100\n",
            "54/54 [==============================] - 29s 533ms/step - loss: 0.3295 - accuracy: 0.8780 - val_loss: 0.4990 - val_accuracy: 0.8214\n",
            "Epoch 54/100\n",
            "54/54 [==============================] - 29s 537ms/step - loss: 0.3557 - accuracy: 0.8740 - val_loss: 0.4744 - val_accuracy: 0.8231\n",
            "Epoch 55/100\n",
            "54/54 [==============================] - 29s 534ms/step - loss: 0.3200 - accuracy: 0.8860 - val_loss: 0.4444 - val_accuracy: 0.8509\n",
            "Epoch 56/100\n",
            "54/54 [==============================] - 29s 543ms/step - loss: 0.3128 - accuracy: 0.8850 - val_loss: 0.4608 - val_accuracy: 0.8266\n",
            "Epoch 57/100\n",
            "54/54 [==============================] - 30s 548ms/step - loss: 0.4438 - accuracy: 0.8505 - val_loss: 0.4819 - val_accuracy: 0.8277\n",
            "Epoch 58/100\n",
            "54/54 [==============================] - 29s 541ms/step - loss: 0.3156 - accuracy: 0.8832 - val_loss: 0.4421 - val_accuracy: 0.8468\n",
            "Epoch 59/100\n",
            "54/54 [==============================] - 30s 548ms/step - loss: 0.4124 - accuracy: 0.8637 - val_loss: 0.4498 - val_accuracy: 0.8387\n",
            "Epoch 60/100\n",
            "54/54 [==============================] - 29s 530ms/step - loss: 0.2995 - accuracy: 0.8904 - val_loss: 0.4041 - val_accuracy: 0.8572\n",
            "Epoch 61/100\n",
            "54/54 [==============================] - 29s 535ms/step - loss: 0.2961 - accuracy: 0.8942 - val_loss: 0.4433 - val_accuracy: 0.8480\n",
            "Epoch 62/100\n",
            "54/54 [==============================] - 29s 537ms/step - loss: 0.3660 - accuracy: 0.8681 - val_loss: 0.4547 - val_accuracy: 0.8353\n",
            "Epoch 63/100\n",
            "54/54 [==============================] - 29s 536ms/step - loss: 0.2733 - accuracy: 0.9031 - val_loss: 0.4177 - val_accuracy: 0.8561\n",
            "Epoch 64/100\n",
            "54/54 [==============================] - 29s 534ms/step - loss: 0.2488 - accuracy: 0.9081 - val_loss: 0.4807 - val_accuracy: 0.8301\n",
            "Epoch 65/100\n",
            "54/54 [==============================] - 29s 537ms/step - loss: 0.3499 - accuracy: 0.8786 - val_loss: 0.5132 - val_accuracy: 0.8364\n",
            "Epoch 66/100\n",
            "54/54 [==============================] - 29s 533ms/step - loss: 0.2708 - accuracy: 0.9009 - val_loss: 0.3797 - val_accuracy: 0.8671\n",
            "Epoch 67/100\n",
            "54/54 [==============================] - 29s 543ms/step - loss: 0.2687 - accuracy: 0.9056 - val_loss: 0.4283 - val_accuracy: 0.8549\n",
            "Epoch 68/100\n",
            "54/54 [==============================] - 30s 548ms/step - loss: 0.2725 - accuracy: 0.9000 - val_loss: 0.4283 - val_accuracy: 0.8543\n",
            "Epoch 69/100\n",
            "54/54 [==============================] - 29s 538ms/step - loss: 0.2382 - accuracy: 0.9112 - val_loss: 0.4085 - val_accuracy: 0.8584\n",
            "Epoch 70/100\n",
            "54/54 [==============================] - 29s 534ms/step - loss: 0.2118 - accuracy: 0.9255 - val_loss: 0.4284 - val_accuracy: 0.8584\n",
            "Epoch 71/100\n",
            "54/54 [==============================] - 29s 535ms/step - loss: 0.3191 - accuracy: 0.8886 - val_loss: 0.4167 - val_accuracy: 0.8532\n",
            "Epoch 72/100\n",
            "54/54 [==============================] - 29s 537ms/step - loss: 0.2738 - accuracy: 0.9050 - val_loss: 0.4117 - val_accuracy: 0.8566\n",
            "Epoch 73/100\n",
            "54/54 [==============================] - 29s 540ms/step - loss: 0.2248 - accuracy: 0.9191 - val_loss: 0.3873 - val_accuracy: 0.8636\n",
            "Epoch 74/100\n",
            "54/54 [==============================] - 29s 537ms/step - loss: 0.2193 - accuracy: 0.9176 - val_loss: 0.4064 - val_accuracy: 0.8543\n",
            "Epoch 75/100\n",
            "54/54 [==============================] - 29s 540ms/step - loss: 0.2081 - accuracy: 0.9262 - val_loss: 0.4437 - val_accuracy: 0.8555\n",
            "Epoch 76/100\n",
            "54/54 [==============================] - 29s 537ms/step - loss: 0.3780 - accuracy: 0.8709 - val_loss: 0.4867 - val_accuracy: 0.8179\n",
            "Epoch 77/100\n",
            "54/54 [==============================] - 30s 550ms/step - loss: 0.3237 - accuracy: 0.8894 - val_loss: 0.4565 - val_accuracy: 0.8393\n",
            "Epoch 78/100\n",
            "54/54 [==============================] - 30s 561ms/step - loss: 0.3047 - accuracy: 0.8886 - val_loss: 0.4342 - val_accuracy: 0.8491\n",
            "Epoch 79/100\n",
            "54/54 [==============================] - 29s 542ms/step - loss: 0.2184 - accuracy: 0.9235 - val_loss: 0.3975 - val_accuracy: 0.8734\n",
            "Epoch 80/100\n",
            "54/54 [==============================] - 29s 535ms/step - loss: 0.2045 - accuracy: 0.9284 - val_loss: 0.4689 - val_accuracy: 0.8428\n",
            "Epoch 81/100\n",
            "54/54 [==============================] - 29s 540ms/step - loss: 0.2011 - accuracy: 0.9294 - val_loss: 0.4268 - val_accuracy: 0.8705\n",
            "Epoch 82/100\n",
            "54/54 [==============================] - 29s 534ms/step - loss: 0.2234 - accuracy: 0.9218 - val_loss: 0.3963 - val_accuracy: 0.8688\n",
            "Epoch 83/100\n",
            "54/54 [==============================] - 29s 534ms/step - loss: 0.1785 - accuracy: 0.9334 - val_loss: 0.4057 - val_accuracy: 0.8659\n",
            "Epoch 84/100\n",
            "54/54 [==============================] - 29s 534ms/step - loss: 0.1931 - accuracy: 0.9316 - val_loss: 0.3913 - val_accuracy: 0.8763\n",
            "Epoch 85/100\n",
            "54/54 [==============================] - 29s 535ms/step - loss: 0.2975 - accuracy: 0.8972 - val_loss: 0.4256 - val_accuracy: 0.8382\n",
            "Epoch 86/100\n",
            "54/54 [==============================] - 29s 536ms/step - loss: 0.2818 - accuracy: 0.8985 - val_loss: 0.4177 - val_accuracy: 0.8543\n",
            "Epoch 87/100\n",
            "54/54 [==============================] - 29s 539ms/step - loss: 0.2373 - accuracy: 0.9154 - val_loss: 0.4167 - val_accuracy: 0.8642\n",
            "Epoch 88/100\n",
            "54/54 [==============================] - 29s 541ms/step - loss: 0.2270 - accuracy: 0.9206 - val_loss: 0.4361 - val_accuracy: 0.8486\n",
            "Epoch 89/100\n",
            "54/54 [==============================] - 29s 545ms/step - loss: 0.1826 - accuracy: 0.9340 - val_loss: 0.3767 - val_accuracy: 0.8723\n",
            "Epoch 90/100\n",
            "54/54 [==============================] - 30s 547ms/step - loss: 0.1746 - accuracy: 0.9349 - val_loss: 0.4343 - val_accuracy: 0.8671\n",
            "Epoch 91/100\n",
            "54/54 [==============================] - 29s 541ms/step - loss: 0.1629 - accuracy: 0.9414 - val_loss: 0.3783 - val_accuracy: 0.8740\n",
            "Epoch 92/100\n",
            "54/54 [==============================] - 29s 543ms/step - loss: 0.1950 - accuracy: 0.9344 - val_loss: 0.3966 - val_accuracy: 0.8653\n",
            "Epoch 93/100\n",
            "54/54 [==============================] - 29s 534ms/step - loss: 0.1586 - accuracy: 0.9402 - val_loss: 0.4518 - val_accuracy: 0.8618\n",
            "Epoch 94/100\n",
            "54/54 [==============================] - 29s 533ms/step - loss: 0.2370 - accuracy: 0.9212 - val_loss: 0.4722 - val_accuracy: 0.8387\n",
            "Epoch 95/100\n",
            "54/54 [==============================] - 29s 535ms/step - loss: 0.2205 - accuracy: 0.9176 - val_loss: 0.4043 - val_accuracy: 0.8584\n",
            "Epoch 96/100\n",
            "54/54 [==============================] - 29s 543ms/step - loss: 0.1593 - accuracy: 0.9430 - val_loss: 0.4109 - val_accuracy: 0.8699\n",
            "Epoch 97/100\n",
            "54/54 [==============================] - 29s 529ms/step - loss: 0.1593 - accuracy: 0.9470 - val_loss: 0.5248 - val_accuracy: 0.8399\n",
            "Epoch 98/100\n",
            "54/54 [==============================] - 29s 533ms/step - loss: 0.1704 - accuracy: 0.9362 - val_loss: 0.4950 - val_accuracy: 0.8572\n",
            "Epoch 99/100\n",
            "54/54 [==============================] - 29s 533ms/step - loss: 0.1422 - accuracy: 0.9484 - val_loss: 0.4228 - val_accuracy: 0.8699\n",
            "Epoch 100/100\n",
            "54/54 [==============================] - 29s 533ms/step - loss: 0.1436 - accuracy: 0.9498 - val_loss: 0.4300 - val_accuracy: 0.8803\n"
          ],
          "name": "stdout"
        },
        {
          "output_type": "execute_result",
          "data": {
            "text/plain": [
              "<tensorflow.python.keras.callbacks.History at 0x7efd2009c898>"
            ]
          },
          "metadata": {
            "tags": []
          },
          "execution_count": 10
        }
      ]
    },
    {
      "cell_type": "markdown",
      "metadata": {
        "id": "OBA1C7wR44aO",
        "colab_type": "text"
      },
      "source": [
        "## Evaluating the model 2"
      ]
    },
    {
      "cell_type": "code",
      "metadata": {
        "id": "vq3mRa8Z5A-5",
        "colab_type": "code",
        "outputId": "9d9e9da7-d83f-4c24-d54a-b602e8b24098",
        "colab": {
          "base_uri": "https://localhost:8080/",
          "height": 50
        }
      },
      "source": [
        "model.evaluate(np.asarray(test_data), np.asarray(test_labels))"
      ],
      "execution_count": 0,
      "outputs": [
        {
          "output_type": "stream",
          "text": [
            "55/55 [==============================] - 0s 8ms/step - loss: 0.4300 - accuracy: 0.8803\n"
          ],
          "name": "stdout"
        },
        {
          "output_type": "execute_result",
          "data": {
            "text/plain": [
              "[0.4300357401371002, 0.8803468346595764]"
            ]
          },
          "metadata": {
            "tags": []
          },
          "execution_count": 11
        }
      ]
    }
  ]
}